{
 "cells": [
  {
   "cell_type": "code",
   "execution_count": 34,
   "metadata": {},
   "outputs": [
    {
     "name": "stdout",
     "output_type": "stream",
     "text": [
      "Please enter the first number,x = -2\n",
      "Please enter the second number,y = 3\n",
      "The value of x after swapping will be  3\n",
      "The value of y after swapping will be  -2.0\n"
     ]
    }
   ],
   "source": [
    "x=int(input(\"Please enter the first number,x = \"))\n",
    "y=int(input(\"Please enter the second number,y = \"))\n",
    "t=x\n",
    "x=y\n",
    "y=t\n",
    "print(\"The value of x after swapping will be \", (x))\n",
    "print(\"The value of y after swapping will be \", (y))"
   ]
  },
  {
   "cell_type": "code",
   "execution_count": 38,
   "metadata": {},
   "outputs": [
    {
     "name": "stdout",
     "output_type": "stream",
     "text": [
      "Please enter the first number,x = 23\n",
      "Please enter the second number,y = 25\n",
      "Please enter the third number,z = 96\n",
      "The sum of the three numbers is 144\n",
      "The product of the three numbers is 55200\n",
      "The average of the three numbers is 48.0\n"
     ]
    }
   ],
   "source": [
    "x=int(input(\"Please enter the first number,x = \"))\n",
    "y=int(input(\"Please enter the second number,y = \"))\n",
    "z=int(input(\"Please enter the third number,z = \"))\n",
    "sum=x+y+z\n",
    "product=x*y*z\n",
    "average=sum/3\n",
    "print(\"The sum of the three numbers is\",sum)\n",
    "print(\"The product of the three numbers is\",product)\n",
    "print(\"The average of the three numbers is\",average)"
   ]
  },
  {
   "cell_type": "code",
   "execution_count": 40,
   "metadata": {},
   "outputs": [
    {
     "name": "stdout",
     "output_type": "stream",
     "text": [
      "Please enter the first number,x = 45\n",
      "Please enter the second number,y = 55\n",
      "The area of rectangle is 2475.0\n",
      "The perimeter of rectangle is 4950.0\n"
     ]
    }
   ],
   "source": [
    "x=float(input(\"Please enter the first number,x = \"))\n",
    "y=float(input(\"Please enter the second number,y = \"))\n",
    "perimeter=2*x*y\n",
    "area=x*y\n",
    "print(\"The area of rectangle is\",area)\n",
    "print(\"The perimeter of rectangle is\",perimeter)"
   ]
  },
  {
   "cell_type": "code",
   "execution_count": 42,
   "metadata": {},
   "outputs": [
    {
     "name": "stdout",
     "output_type": "stream",
     "text": [
      "Please Enter the radius of the circle :x=7\n",
      "Please Enter the hieght of the circle :y=12\n",
      "The area is equal to  153.93804002589985\n",
      "My volume is equal to  1847.2564803107982\n"
     ]
    }
   ],
   "source": [
    "from numpy import pi\n",
    "x=float(input(\"Please Enter the radius of the circle :x=\"))\n",
    "y=float(input(\"Please Enter the hieght of the circle :y=\"))\n",
    "Area= (pi)*(x**2)\n",
    "print(\"The area is equal to \",Area)\n",
    "volume=Area*y\n",
    "print(\"My volume is equal to \",volume)"
   ]
  }
 ],
 "metadata": {
  "kernelspec": {
   "display_name": "Python 3",
   "language": "python",
   "name": "python3"
  },
  "language_info": {
   "codemirror_mode": {
    "name": "ipython",
    "version": 3
   },
   "file_extension": ".py",
   "mimetype": "text/x-python",
   "name": "python",
   "nbconvert_exporter": "python",
   "pygments_lexer": "ipython3",
   "version": "3.7.3"
  }
 },
 "nbformat": 4,
 "nbformat_minor": 2
}
