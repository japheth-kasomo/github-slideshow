{
 "cells": [
  {
   "cell_type": "raw",
   "metadata": {},
   "source": [
    "Group Members\n",
    "1. Jean Irenee\n",
    "2. Japheth Kasomo\n",
    "3. Vincent Wayuga\n",
    "4. Denis Mulumba\n",
    "5. Pamela Kariuki"
   ]
  },
  {
   "cell_type": "code",
   "execution_count": 2,
   "metadata": {},
   "outputs": [
    {
     "name": "stdout",
     "output_type": "stream",
     "text": [
      "please enter number of seconds, sec = 3994648\n",
      "3994648 seconds =  6 weeks 4 days 5 hours 37 minutes and 28 seconds\n"
     ]
    }
   ],
   "source": [
    "#1. 3994648 seconds = 6 weeks ; 4 days ; 5 hours ; 37 minutes and 28 seconds\n",
    "sec=int(input(\"please enter number of seconds, sec = \"))\n",
    "weeks=sec//604800\n",
    "sec%=604800\n",
    "days=sec//86400\n",
    "sec%=86400\n",
    "hours=sec//3600\n",
    "sec%=3600\n",
    "minutes=sec//60\n",
    "sec%=60\n",
    "seconds=sec\n",
    "print(\"3994648 seconds = \", weeks,\"weeks\",days,\"days\",hours,\"hours\",minutes,\"minutes\", \"and\", seconds,\"seconds\")"
   ]
  },
  {
   "cell_type": "code",
   "execution_count": 3,
   "metadata": {},
   "outputs": [
    {
     "name": "stdout",
     "output_type": "stream",
     "text": [
      "Enter first number, x = 8\n",
      "Enter second number, y= 0\n",
      "X is not divisible by zero\n"
     ]
    }
   ],
   "source": [
    "# 2.Write a program that asks the user for two numbers...\n",
    "x=float(input(\"Enter first number, x = \"))\n",
    "y=float(input(\"Enter second number, y= \"))\n",
    "if(y != 0):\n",
    "    print(x/y)\n",
    "else:\n",
    "    print(\"X is not divisible by zero\")"
   ]
  },
  {
   "cell_type": "code",
   "execution_count": 4,
   "metadata": {},
   "outputs": [
    {
     "name": "stdout",
     "output_type": "stream",
     "text": [
      "Enter a number 0 or 1 0r 2, n = 3\n",
      "Enter a number 0 or 1 0r 2, n = 5\n",
      "Enter a number 0 or 1 0r 2, n = 1\n",
      "Enter a real number2\n",
      "32.0000000000\n"
     ]
    }
   ],
   "source": [
    "#3.\n",
    "n=int(input(\"Enter a number 0 or 1 0r 2, n = \"))\n",
    "while(n != 0 and n !=1 and n != 2):\n",
    "    n=int(input(\"Enter a number 0 or 1 0r 2, n = \"))\n",
    "if (n==1):\n",
    "    r=float(input(\"Enter a real number\"))\n",
    "    print('%.10f'%(r**5))\n",
    "elif(n==2):\n",
    "    N=int(input(\"Enter an integer, N = \"))\n",
    "    if (N%2==0):\n",
    "        print(\"This is Even integer\")\n",
    "    else:\n",
    "        print(\"This is Odd integer\")\n",
    "else:\n",
    "    print(\"I hate zero\")"
   ]
  },
  {
   "cell_type": "code",
   "execution_count": 5,
   "metadata": {},
   "outputs": [
    {
     "name": "stdout",
     "output_type": "stream",
     "text": [
      "Enter first number, a = 4\n",
      "Enter first number, b = 3\n",
      "Enter first number, c = 5\n",
      "This is the right triangle\n"
     ]
    }
   ],
   "source": [
    "#4.\n",
    "a = int(input('Enter first number, a = '))\n",
    "b = int(input('Enter first number, b = '))\n",
    "c = int(input('Enter first number, c = '))\n",
    "\n",
    "if(a**2 + b**2 == c**2 or a**2 + c**2 == b**2 or b**2 + c**2 == a**2):\n",
    "    print('This is the right triangle')\n",
    "else:\n",
    "    print('This is not the right triangle')"
   ]
  },
  {
   "cell_type": "code",
   "execution_count": 1,
   "metadata": {},
   "outputs": [
    {
     "name": "stdout",
     "output_type": "stream",
     "text": [
      "Enter a string : stri\n",
      "stri\n"
     ]
    }
   ],
   "source": [
    "#5.\n",
    "s = input('Enter a string : ')\n",
    "#l=len(s)\n",
    "if (len(s)>=2):\n",
    "    print(s[:2]+s[-2:])\n",
    "else:\n",
    "    print(s)"
   ]
  },
  {
   "cell_type": "code",
   "execution_count": 7,
   "metadata": {},
   "outputs": [
    {
     "name": "stdout",
     "output_type": "stream",
     "text": [
      "Enter a string :getting\n",
      "When we add 'ly' to getting we have gettingly \n"
     ]
    }
   ],
   "source": [
    "#6.\n",
    "s = input('Enter a string :')\n",
    "l=len(s)\n",
    "if (len(s)>=3) and (s[len(s)-3:]==\"ing\"):\n",
    "    print(\"When we add 'ly' to {} we have {} \". format(s,s+'ly'))\n",
    "elif (len(s)>=3) and (s[len(s)-3:]!=\"ing\"):\n",
    "    print(\"When we add 'ing' to {} we have {}\".format(s,s+'ing'))\n",
    "else:\n",
    "    print(\"You wrote :\",s)"
   ]
  },
  {
   "cell_type": "code",
   "execution_count": 8,
   "metadata": {},
   "outputs": [
    {
     "name": "stdout",
     "output_type": "stream",
     "text": [
      "Enter a positive integer, k = 2\n",
      "The sum of k+kK+kkk is 246\n"
     ]
    }
   ],
   "source": [
    "#7\n",
    "k=input(\"Enter a positive integer, k = \")\n",
    "som=0\n",
    "for i in range (1,4):\n",
    "    r=k*i\n",
    "    som=som+int(r)\n",
    "print(\"The sum of k+kK+kkk is\", som)"
   ]
  },
  {
   "cell_type": "code",
   "execution_count": 9,
   "metadata": {},
   "outputs": [
    {
     "name": "stdout",
     "output_type": "stream",
     "text": [
      "Enter a positive integer, k = 8\n",
      "Enter an integer8\n",
      "The sum of k+Kk+kkk+...Kkkkk is 9876536\n"
     ]
    }
   ],
   "source": [
    "#8\n",
    "k=(input(\"Enter a positive integer, k = \"))\n",
    "n=int(input(\"Enter an integer\"))\n",
    "som=0\n",
    "for i in range (1,n):\n",
    "    r=k*i\n",
    "    som=som+int(r)\n",
    "print(\"The sum of k+Kk+kkk+...Kkkkk is\", som)"
   ]
  },
  {
   "cell_type": "code",
   "execution_count": 10,
   "metadata": {},
   "outputs": [
    {
     "name": "stdout",
     "output_type": "stream",
     "text": [
      "Enter a year like '1900'or '2020'=: 2100\n",
      "The Year 2100 is not a leap year\n"
     ]
    }
   ],
   "source": [
    "#9\n",
    "Year=input(\"Enter a year like '1900'or '2020'=: \")\n",
    "while len(Year) !=4:\n",
    "    Year=input(\"Enter a year like '1900' or '2020'=:\")\n",
    "if (int(Year)%4==0 and int(Year)%100 != 0):\n",
    "    print(\"The Year {} is a leap year\".format(Year))\n",
    "elif (int(Year)%400==0):\n",
    "        print(\"The year {} is a leap year\".format(Year))\n",
    "else:\n",
    "    print(\"The Year {} is not a leap year\".format(Year))"
   ]
  },
  {
   "cell_type": "code",
   "execution_count": null,
   "metadata": {},
   "outputs": [],
   "source": [
    "#10\n",
    "R=input(\"Enter an irrational decimal fraction \")\n",
    "a= list(R.split('.'))\n",
    "a[1]= '0' + a[1]\n",
    "l=len(a[1])\n",
    "i=1\n",
    "Sum=0\n",
    "\n",
    "y=[]\n",
    "\n",
    "while 2**i<=l:\n",
    "    Sum=Sum + int(a[1][2**i])\n",
    "    y.append(int(a[1][2**i]))\n",
    "    i=i+1\n",
    "print(a)\n",
    "\n",
    "print(\"The digit decimal number are: \", a[1])\n",
    "\n",
    "print(\"The length of {} is {} \".format(a[1],1))\n",
    "\n",
    "print(\"The list of the  digits  d2, d4, d8, ... is \", y)\n",
    "\n",
    "print(\"The sum of d2 +d4 + d8 + d16 + d18 +... is \", Sum) \n",
    "\n",
    "\n",
    "    #0.123456789101112131415161718192021\n"
   ]
  },
  {
   "cell_type": "code",
   "execution_count": null,
   "metadata": {},
   "outputs": [],
   "source": [
    "#11.\n",
    "a=float(input(\"Enter a \"))\n",
    "b=float(input(\"Enter b \"))\n",
    "e=10**-5\n",
    "if(a**3-3*a-5)*(b**3-3*b-5)>=0:\n",
    "    print(\"Dichotomy Method fails\")\n",
    "else:\n",
    "    while abs(b-a) > e:\n",
    "        c=(b+a)/2\n",
    "        if ((c**3-3*c-5))==0:\n",
    "            print(\"The exact solution is \",c)\n",
    "        elif (c**3-3*c-5)*(a**3-3*a-5)<0:\n",
    "            b=c\n",
    "        else:\n",
    "            a=c\n",
    "    print(\"The approximation of exact solution is \",c)"
   ]
  },
  {
   "cell_type": "code",
   "execution_count": null,
   "metadata": {},
   "outputs": [],
   "source": [
    "#12.\n",
    "n=int(input(\"Enter number n = \"))\n",
    "u0=1\n",
    "u1=2\n",
    "u2=3\n",
    "if n==0:\n",
    "    print(u0)\n",
    "elif n==1:\n",
    "    print(u1)\n",
    "elif n==2:\n",
    "    print(u2)\n",
    "else:\n",
    "    for i in range(2,n-1):\n",
    "        u=u0-3*u1+u2\n",
    "        u0=u1\n",
    "        u1=u2\n",
    "        u2=u\n",
    "    print(u)"
   ]
  },
  {
   "cell_type": "code",
   "execution_count": null,
   "metadata": {},
   "outputs": [],
   "source": [
    "#13.\n",
    "inventory = {'gold':500, 'pouch':['flint','twine','gemstone'],'backpack':['xylophone','dagger','bedroll','bread loaf']}\n",
    "inventory['pocket']=['seashell','strange berry','lint']\n"
   ]
  }
 ],
 "metadata": {
  "kernelspec": {
   "display_name": "Python 3",
   "language": "python",
   "name": "python3"
  },
  "language_info": {
   "codemirror_mode": {
    "name": "ipython",
    "version": 3
   },
   "file_extension": ".py",
   "mimetype": "text/x-python",
   "name": "python",
   "nbconvert_exporter": "python",
   "pygments_lexer": "ipython3",
   "version": "3.7.4"
  }
 },
 "nbformat": 4,
 "nbformat_minor": 2
}
