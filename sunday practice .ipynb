{
 "cells": [
  {
   "cell_type": "code",
   "execution_count": 1,
   "metadata": {},
   "outputs": [
    {
     "data": {
      "text/plain": [
       "'o'"
      ]
     },
     "execution_count": 1,
     "metadata": {},
     "output_type": "execute_result"
    }
   ],
   "source": [
    "a=\"hello\"\n",
    "a[4]"
   ]
  },
  {
   "cell_type": "code",
   "execution_count": 4,
   "metadata": {},
   "outputs": [
    {
     "data": {
      "text/plain": [
       "'l'"
      ]
     },
     "execution_count": 4,
     "metadata": {},
     "output_type": "execute_result"
    }
   ],
   "source": [
    "a[3]"
   ]
  },
  {
   "cell_type": "code",
   "execution_count": 6,
   "metadata": {},
   "outputs": [
    {
     "data": {
      "text/plain": [
       "'low'"
      ]
     },
     "execution_count": 6,
     "metadata": {},
     "output_type": "execute_result"
    }
   ],
   "source": [
    "b=\"helloworld\"\n",
    "b[3:6]"
   ]
  },
  {
   "cell_type": "code",
   "execution_count": 10,
   "metadata": {},
   "outputs": [
    {
     "name": "stdout",
     "output_type": "stream",
     "text": [
      "hellow\n",
      "oworld\n"
     ]
    }
   ],
   "source": [
    "print(b[:6])\n",
    "print(b[4:])"
   ]
  },
  {
   "cell_type": "code",
   "execution_count": 11,
   "metadata": {},
   "outputs": [
    {
     "data": {
      "text/plain": [
       "'hellowo'"
      ]
     },
     "execution_count": 11,
     "metadata": {},
     "output_type": "execute_result"
    }
   ],
   "source": [
    "b[:-3]"
   ]
  },
  {
   "cell_type": "code",
   "execution_count": 12,
   "metadata": {},
   "outputs": [
    {
     "data": {
      "text/plain": [
       "'hlod'"
      ]
     },
     "execution_count": 12,
     "metadata": {},
     "output_type": "execute_result"
    }
   ],
   "source": [
    "b[::3]"
   ]
  },
  {
   "cell_type": "code",
   "execution_count": 14,
   "metadata": {},
   "outputs": [
    {
     "data": {
      "text/plain": [
       "'hlo'"
      ]
     },
     "execution_count": 14,
     "metadata": {},
     "output_type": "execute_result"
    }
   ],
   "source": [
    "b[:9:3]"
   ]
  },
  {
   "cell_type": "code",
   "execution_count": 46,
   "metadata": {},
   "outputs": [
    {
     "name": "stdout",
     "output_type": "stream",
     "text": [
      "Enter number n = 4\n",
      "5\n"
     ]
    }
   ],
   "source": [
    "n=int(input(\"Enter number n = \"))\n",
    "u0=1\n",
    "u1=2\n",
    "if n==0:\n",
    "    print(u0)\n",
    "elif n==1:\n",
    "    print(u1)\n",
    "else:\n",
    "    for i in range(1,n-1):\n",
    "        u=u1+u0\n",
    "        u0=u1\n",
    "        u1=u\n",
    "    print(u)"
   ]
  },
  {
   "cell_type": "code",
   "execution_count": 45,
   "metadata": {},
   "outputs": [
    {
     "name": "stdout",
     "output_type": "stream",
     "text": [
      "Enter number n = 4\n",
      "5\n"
     ]
    }
   ],
   "source": [
    "n=int(input(\"Enter number n = \"))\n",
    "u=[1,2]\n",
    "if n==0:\n",
    "    print(u[0])\n",
    "elif n==1:\n",
    "    print(u[1])\n",
    "else:\n",
    "    for i in range(1,n-1):\n",
    "        u.append(u[i]+u[i-1])\n",
    "    print(u[n-1])"
   ]
  },
  {
   "cell_type": "code",
   "execution_count": 58,
   "metadata": {},
   "outputs": [
    {
     "name": "stdout",
     "output_type": "stream",
     "text": [
      "Enter number n = 4\n",
      "-2\n"
     ]
    }
   ],
   "source": [
    "n=int(input(\"Enter number n = \"))\n",
    "u=[1,2,3]\n",
    "if n==0:\n",
    "    print(u[0])\n",
    "elif n==1:\n",
    "    print(u[1])\n",
    "elif n==2:\n",
    "    print(u[2])\n",
    "else:\n",
    "    for i in range(1,n-1):\n",
    "        u.append(u[i+1]-3*u[i]+u[i-1])\n",
    "    print(u[n-1])"
   ]
  },
  {
   "cell_type": "code",
   "execution_count": 57,
   "metadata": {},
   "outputs": [
    {
     "name": "stdout",
     "output_type": "stream",
     "text": [
      "Enter number n = 4\n",
      "-2\n"
     ]
    }
   ],
   "source": [
    "n=int(input(\"Enter number n = \"))\n",
    "u0=1\n",
    "u1=2\n",
    "u2=3\n",
    "if n==0:\n",
    "    print(u0)\n",
    "elif n==1:\n",
    "    print(u1)\n",
    "elif n==2:\n",
    "    print(u2)\n",
    "else:\n",
    "    for i in range(2,n-1):\n",
    "        u=u0-3*u1+u2\n",
    "        u0=u1\n",
    "        u1=u2\n",
    "        u2=u\n",
    "    print(u)"
   ]
  },
  {
   "cell_type": "code",
   "execution_count": 5,
   "metadata": {},
   "outputs": [
    {
     "data": {
      "text/plain": [
       "'hel'"
      ]
     },
     "execution_count": 5,
     "metadata": {},
     "output_type": "execute_result"
    }
   ],
   "source": [
    "a=\"hello\"\n",
    "a[:-2]\n"
   ]
  },
  {
   "cell_type": "code",
   "execution_count": 11,
   "metadata": {},
   "outputs": [
    {
     "name": "stdout",
     "output_type": "stream",
     "text": [
      "Enter your Name japheth\n",
      "Your Name japheth has 7 Characters \n"
     ]
    }
   ],
   "source": [
    "t=input(\"Enter your Name \")\n",
    "l=len(t)\n",
    "print(\"Your Name {} has {} Characters \". format(t,l))"
   ]
  },
  {
   "cell_type": "code",
   "execution_count": 15,
   "metadata": {},
   "outputs": [
    {
     "name": "stdout",
     "output_type": "stream",
     "text": [
      "Enter integer2\n",
      "8.0000000000\n"
     ]
    }
   ],
   "source": [
    "a=int(input(\"Enter integer\"))\n",
    "b=a**3\n",
    "print('%.10f'%(b))"
   ]
  },
  {
   "cell_type": "code",
   "execution_count": 27,
   "metadata": {},
   "outputs": [
    {
     "name": "stdout",
     "output_type": "stream",
     "text": [
      "Enter a string google\n",
      "{'o': 2, 'g': 2, 'e': 1, 'l': 1}\n"
     ]
    }
   ],
   "source": [
    "s=input(\"Enter a string \")\n",
    "d=set(s)\n",
    "result={}\n",
    "for key in d:\n",
    "    value=s.count(key)\n",
    "    result[key]=value\n",
    "print(result)"
   ]
  },
  {
   "cell_type": "code",
   "execution_count": null,
   "metadata": {},
   "outputs": [],
   "source": []
  },
  {
   "cell_type": "code",
   "execution_count": 22,
   "metadata": {},
   "outputs": [
    {
     "data": {
      "text/plain": [
       "0"
      ]
     },
     "execution_count": 22,
     "metadata": {},
     "output_type": "execute_result"
    }
   ],
   "source": [
    "s=\"TGASSDS\"\n",
    "s.count(\"isupper\")"
   ]
  },
  {
   "cell_type": "code",
   "execution_count": null,
   "metadata": {},
   "outputs": [],
   "source": [
    "def Bissection1(epsilon):\n",
    "    a =- 10\n",
    "    b = 10\n",
    "    f = lambda x: x**3 - 3*x - 5\n",
    "    if f(a)*f(b) >= 0:\n",
    "        print(\"Bisection Method fails\")\n",
    "    else:\n",
    "        while abs(b-a) > epsilon:\n",
    "            c = (b+a)/2\n",
    "            if f(c) == 0:\n",
    "                return c\n",
    "            elif f(a)*f(c) < 0:\n",
    "                b = c\n",
    "            else:\n",
    "                a = c\n",
    "    return c\n",
    "            "
   ]
  },
  {
   "cell_type": "code",
   "execution_count": 33,
   "metadata": {},
   "outputs": [
    {
     "ename": "NameError",
     "evalue": "name 'Bissection1' is not defined",
     "output_type": "error",
     "traceback": [
      "\u001b[1;31m---------------------------------------------------------------------------\u001b[0m",
      "\u001b[1;31mNameError\u001b[0m                                 Traceback (most recent call last)",
      "\u001b[1;32m<ipython-input-33-c6e08b062d1e>\u001b[0m in \u001b[0;36m<module>\u001b[1;34m\u001b[0m\n\u001b[1;32m----> 1\u001b[1;33m \u001b[0mBissection1\u001b[0m\u001b[1;33m(\u001b[0m\u001b[1;36m10\u001b[0m\u001b[1;33m**\u001b[0m\u001b[1;33m(\u001b[0m\u001b[1;33m-\u001b[0m\u001b[1;36m5\u001b[0m\u001b[1;33m)\u001b[0m\u001b[1;33m)\u001b[0m\u001b[1;33m\u001b[0m\u001b[1;33m\u001b[0m\u001b[0m\n\u001b[0m",
      "\u001b[1;31mNameError\u001b[0m: name 'Bissection1' is not defined"
     ]
    }
   ],
   "source": [
    "Bissection1(10**(-5))"
   ]
  },
  {
   "cell_type": "code",
   "execution_count": 38,
   "metadata": {},
   "outputs": [
    {
     "name": "stdout",
     "output_type": "stream",
     "text": [
      "Enter irrational decimal fraction 0.123456789101112131415161718192021\n",
      "17\n"
     ]
    }
   ],
   "source": [
    "R= input(\"Enter irrational decimal fraction \")\n",
    "a=list(R.split('.'))\n",
    "a[1]='0'+a[1]\n",
    "l=len(a[1])\n",
    "i=1\n",
    "som=0\n",
    "while 2**i<=l:\n",
    "    som=som+int(a[1][2**i])\n",
    "    i=i+1\n",
    "print(som)\n",
    "    "
   ]
  }
 ],
 "metadata": {
  "kernelspec": {
   "display_name": "Python 3",
   "language": "python",
   "name": "python3"
  },
  "language_info": {
   "codemirror_mode": {
    "name": "ipython",
    "version": 3
   },
   "file_extension": ".py",
   "mimetype": "text/x-python",
   "name": "python",
   "nbconvert_exporter": "python",
   "pygments_lexer": "ipython3",
   "version": "3.7.4"
  }
 },
 "nbformat": 4,
 "nbformat_minor": 2
}
