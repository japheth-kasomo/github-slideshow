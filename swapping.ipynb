{
 "cells": [
  {
   "cell_type": "code",
   "execution_count": 2,
   "metadata": {},
   "outputs": [
    {
     "name": "stdout",
     "output_type": "stream",
     "text": [
      "Please Enter the radius of the circle :x=7\n",
      "Please Enter the hieght of the circle :y=6\n",
      "The area is equal to  153.93804002589985\n",
      "My volume is equal to  923.6282401553991\n"
     ]
    }
   ],
   "source": [
    "from numpy import pi\n",
    "x=int(input(\"Please Enter the radius of the circle :x=\"))\n",
    "y=int(input(\"Please Enter the hieght of the circle :y=\"))\n",
    "Area= (pi)*(x**2)\n",
    "print(\"The area is equal to \",Area)\n",
    "volume=Area*y\n",
    "print(\"My volume is equal to \",volume)"
   ]
  }
 ],
 "metadata": {
  "kernelspec": {
   "display_name": "Python 3",
   "language": "python",
   "name": "python3"
  },
  "language_info": {
   "codemirror_mode": {
    "name": "ipython",
    "version": 3
   },
   "file_extension": ".py",
   "mimetype": "text/x-python",
   "name": "python",
   "nbconvert_exporter": "python",
   "pygments_lexer": "ipython3",
   "version": "3.7.4"
  }
 },
 "nbformat": 4,
 "nbformat_minor": 2
}
