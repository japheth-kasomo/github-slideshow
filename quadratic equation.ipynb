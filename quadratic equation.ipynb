{
 "cells": [
  {
   "cell_type": "code",
   "execution_count": 9,
   "metadata": {},
   "outputs": [
    {
     "name": "stdout",
     "output_type": "stream",
     "text": [
      "Enter the value of a = 8\n",
      "Enter the value of b = 9\n",
      "Enter the value of c = 5\n",
      "The roots are  imaginary\n"
     ]
    }
   ],
   "source": [
    "from math import sqrt\n",
    "a= float(input(\"Enter the value of a = \"))\n",
    "b= float(input(\"Enter the value of b = \"))\n",
    "c= float(input(\"Enter the value of c = \"))\n",
    "d=(b**2)- 4*a*c\n",
    "if d<0:\n",
    "    print(\"The roots are  imaginary\")\n",
    "elif d==0:\n",
    "    r=(-b)/(2*a)\n",
    "    print(\"There is one solution\",r)\n",
    "else:\n",
    "    r1=(-b+sqrt(d))/(2*a)\n",
    "    r2=(-b-sqrt(d))/(2*a)\n",
    "    print(\"The two roots are:\",r1,\"and\", r2)"
   ]
  },
  {
   "cell_type": "code",
   "execution_count": null,
   "metadata": {},
   "outputs": [],
   "source": []
  }
 ],
 "metadata": {
  "kernelspec": {
   "display_name": "Python 3",
   "language": "python",
   "name": "python3"
  },
  "language_info": {
   "codemirror_mode": {
    "name": "ipython",
    "version": 3
   },
   "file_extension": ".py",
   "mimetype": "text/x-python",
   "name": "python",
   "nbconvert_exporter": "python",
   "pygments_lexer": "ipython3",
   "version": "3.7.3"
  }
 },
 "nbformat": 4,
 "nbformat_minor": 2
}
