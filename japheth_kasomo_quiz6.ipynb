{
 "cells": [
  {
   "cell_type": "markdown",
   "metadata": {},
   "source": [
    "# Sum of modulus of 2 and 3"
   ]
  },
  {
   "cell_type": "code",
   "execution_count": 13,
   "metadata": {},
   "outputs": [
    {
     "name": "stdout",
     "output_type": "stream",
     "text": [
      "Please enter any positive integer10\n",
      "6\n"
     ]
    }
   ],
   "source": [
    "N_0=int(input(\"Please enter any positive integer\"))\n",
    "sum=0\n",
    "for i in  range (N_0):\n",
    "    if (i%2==0 and i%3==0):\n",
    "        sum=sum+i\n",
    "        i=i+1\n",
    "print(sum)"
   ]
  },
  {
   "cell_type": "markdown",
   "metadata": {},
   "source": [
    "# summation of B"
   ]
  },
  {
   "cell_type": "code",
   "execution_count": 14,
   "metadata": {},
   "outputs": [
    {
     "name": "stdout",
     "output_type": "stream",
     "text": [
      "Please enter an integer, n = 2\n",
      "Please enter a real number, z = 1\n",
      "The summution will be 1.0\n"
     ]
    }
   ],
   "source": [
    "n=int(input(\"Please enter an integer, n = \"))\n",
    "z=float(input(\"Please enter a real number, z = \"))\n",
    "if (z==0):\n",
    "    print(\"The value of z must be different from zero\")\n",
    "else:\n",
    "    B=0\n",
    "    for i in range(0,n+1):\n",
    "        B=B+((-1)**i)/((z)**i)\n",
    "print(\"The summution will be\", B)\n",
    "\n"
   ]
  },
  {
   "cell_type": "markdown",
   "metadata": {},
   "source": [
    "# Python code for fibonacce sequence "
   ]
  },
  {
   "cell_type": "code",
   "execution_count": 7,
   "metadata": {},
   "outputs": [
    {
     "name": "stdout",
     "output_type": "stream",
     "text": [
      "Please enter an integer, n = 50\n",
      "32951280099\n"
     ]
    }
   ],
   "source": [
    "n=int(input(\"Please enter an integer, n = \"))\n",
    "U0=1\n",
    "U1=2\n",
    "if (n==0):\n",
    "    Un=U0\n",
    "elif(n==1):\n",
    "    Un=U1\n",
    "else:\n",
    "    for i in range(1,n):\n",
    "        Un=U1+U0\n",
    "        U0=U1\n",
    "        U1=Un\n",
    "print(Un)"
   ]
  },
  {
   "cell_type": "code",
   "execution_count": 8,
   "metadata": {},
   "outputs": [
    {
     "name": "stdout",
     "output_type": "stream",
     "text": [
      "Please enter an integer, n = 50\n",
      "25172538050\n"
     ]
    }
   ],
   "source": [
    "n=int(input(\"Please enter an integer, n = \"))\n",
    "U_0=1\n",
    "U_1=2\n",
    "i=0\n",
    "U_n=0\n",
    "#U_n=U_1+U_0\n",
    "for i in range(0,n):\n",
    "    U_0=U_1\n",
    "    U_1=U_n\n",
    "    U_n=U_0+U_1\n",
    "    i=i+1\n",
    "print(U_n)\n"
   ]
  },
  {
   "cell_type": "markdown",
   "metadata": {},
   "source": [
    "# Python code to dispaly the value of k+kk+kk"
   ]
  },
  {
   "cell_type": "code",
   "execution_count": 1,
   "metadata": {},
   "outputs": [
    {
     "name": "stdout",
     "output_type": "stream",
     "text": [
      "Please enter an integer, k = 2\n",
      "246\n"
     ]
    }
   ],
   "source": [
    "k=int(input(\"Please enter an integer, k = \"))\n",
    "sum=0\n",
    "if (1<=k<=9):\n",
    "    r1=k*1\n",
    "    r2=(k*10)+(k*1)\n",
    "    r3=(k*100)+r2\n",
    "    sum=r1+r2+r3\n",
    "print(sum)\n",
    "    \n"
   ]
  },
  {
   "cell_type": "markdown",
   "metadata": {},
   "source": [
    "# Python code to calculate length of digits entered by the user"
   ]
  },
  {
   "cell_type": "code",
   "execution_count": 1,
   "metadata": {},
   "outputs": [
    {
     "name": "stdout",
     "output_type": "stream",
     "text": [
      "Please input digits of an integer, x = 123\n",
      "3\n"
     ]
    }
   ],
   "source": [
    "x= int(input(\"Please input digits of an integer, x = \"))\n",
    "i=0\n",
    "while (x != 0):\n",
    "    i=i+1\n",
    "    x=x//10\n",
    "print(i)\n"
   ]
  },
  {
   "cell_type": "markdown",
   "metadata": {},
   "source": [
    "# python code to convert seconds into days, minutes,hours,minutes and seconds"
   ]
  },
  {
   "cell_type": "code",
   "execution_count": 21,
   "metadata": {},
   "outputs": [
    {
     "name": "stdout",
     "output_type": "stream",
     "text": [
      "Please input seconds to be converted, s = 1234565\n",
      "14 days 6 hours 56 minutes 0 seconds\n"
     ]
    }
   ],
   "source": [
    "s=int(input(\"Please input seconds to be converted, s = \"))\n",
    "seconds=0\n",
    "days =s//86400\n",
    "s=s%86400\n",
    "hours=s//3600\n",
    "s=s%3600\n",
    "minutes=s//60\n",
    "s=s%60\n",
    "s=s\n",
    "print(days,\"days\",hours,\"hours\",minutes,\"minutes\",seconds,\"seconds\")\n",
    "    "
   ]
  },
  {
   "cell_type": "markdown",
   "metadata": {},
   "source": [
    "# Python code for Dichotomy Method"
   ]
  },
  {
   "cell_type": "code",
   "execution_count": 2,
   "metadata": {},
   "outputs": [
    {
     "name": "stdout",
     "output_type": "stream",
     "text": [
      "please enter the first limit a = -2\n",
      "please enter the first limit b = 2\n",
      "The root is -0.68231201171875\n"
     ]
    }
   ],
   "source": [
    "import numpy\n",
    "a=int(input(\"please enter the first limit a = \"))\n",
    "b=int(input(\"please enter the first limit b = \"))\n",
    "x_0=(a+b)/2\n",
    "pw=10**-4\n",
    "def f(x):\n",
    "    t=x**3 +x+1\n",
    "    return t\n",
    "if f(a)*f(b)<0:\n",
    "    while abs(f(x_0))> pw:\n",
    "        if f(a)*f(x_0)>0:\n",
    "            a=x_0\n",
    "        else:\n",
    "            b=x_0\n",
    "        x_0=(a+b)/2\n",
    "    print(\"The root is\", x_0)\n",
    "else:\n",
    "    print(\"No roots\")\n",
    "\n"
   ]
  },
  {
   "cell_type": "code",
   "execution_count": null,
   "metadata": {},
   "outputs": [],
   "source": []
  }
 ],
 "metadata": {
  "kernelspec": {
   "display_name": "Python 3",
   "language": "python",
   "name": "python3"
  },
  "language_info": {
   "codemirror_mode": {
    "name": "ipython",
    "version": 3
   },
   "file_extension": ".py",
   "mimetype": "text/x-python",
   "name": "python",
   "nbconvert_exporter": "python",
   "pygments_lexer": "ipython3",
   "version": "3.7.4"
  }
 },
 "nbformat": 4,
 "nbformat_minor": 2
}
