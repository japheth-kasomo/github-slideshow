{
 "cells": [
  {
   "cell_type": "code",
   "execution_count": 32,
   "metadata": {},
   "outputs": [
    {
     "name": "stdout",
     "output_type": "stream",
     "text": [
      "Please enter any positive integer10\n",
      "6\n"
     ]
    }
   ],
   "source": [
    "N_0=int(input(\"Please enter any positive integer\"))\n",
    "sum=0\n",
    "for i in  range (N_0):\n",
    "    if (i%2==0 and i%3==0):\n",
    "        sum=sum+i\n",
    "        i=i+1\n",
    "print(sum)"
   ]
  },
  {
   "cell_type": "code",
   "execution_count": 35,
   "metadata": {},
   "outputs": [
    {
     "name": "stdout",
     "output_type": "stream",
     "text": [
      "Please enter any positive integer, n = 2\n",
      "Please enter any positive integer, z = 1\n",
      "1.0\n"
     ]
    }
   ],
   "source": [
    "n=int(input(\"Please enter any positive integer, n = \"))\n",
    "z=int(input(\"Please enter any positive integer, z = \"))\n",
    "if z==0:\n",
    "    print(\"The value of z must be different from zero\")\n",
    "sum=(-1)**i\n",
    "t=z**i\n",
    "a=i+1\n",
    "B=0\n",
    "for i in range(0,n):\n",
    "    B=sum/t\n",
    "    i=i+1\n",
    "print(B)"
   ]
  },
  {
   "cell_type": "code",
   "execution_count": null,
   "metadata": {},
   "outputs": [],
   "source": []
  },
  {
   "cell_type": "code",
   "execution_count": 1,
   "metadata": {},
   "outputs": [
    {
     "name": "stdout",
     "output_type": "stream",
     "text": [
      "Test\n",
      "Test\n",
      "Test\n",
      "Test\n",
      "Test\n",
      "Test\n",
      "Test\n",
      "Test\n",
      "Test\n",
      "Test\n"
     ]
    }
   ],
   "source": [
    "for i in range(10):\n",
    "    print(\"Test\")"
   ]
  },
  {
   "cell_type": "code",
   "execution_count": 4,
   "metadata": {},
   "outputs": [
    {
     "data": {
      "text/plain": [
       "[1, 2, 3, 5, 8, 13, 21, 34]"
      ]
     },
     "execution_count": 4,
     "metadata": {},
     "output_type": "execute_result"
    }
   ],
   "source": [
    "a =[1,2]\n",
    "b = a[-1] + a[-2]\n",
    "#print(b)\n",
    "a.append(b)\n",
    "b = a[-1] + a[-2]\n",
    "#print(b)\n",
    "a.append(b)\n",
    "b = a[-1] + a[-2]\n",
    "#print(b)\n",
    "a.append(b)\n",
    "b = a[-1] + a[-2]\n",
    "#print(b)\n",
    "a.append(b)\n",
    "b = a[-1] + a[-2]\n",
    "#print(b)\n",
    "a.append(b)\n",
    "b = a[-1] + a[-2]\n",
    "#print(b)\n",
    "a.append(b)\n",
    "a"
   ]
  },
  {
   "cell_type": "code",
   "execution_count": 9,
   "metadata": {},
   "outputs": [],
   "source": [
    "for i in range(10):\n",
    "    a =[1,2]\n",
    "    b = (a[-1] + a[-2])*(i**0)\n",
    "    a.append(b)\n"
   ]
  },
  {
   "cell_type": "code",
   "execution_count": 4,
   "metadata": {},
   "outputs": [
    {
     "name": "stdout",
     "output_type": "stream",
     "text": [
      "86267571272\n"
     ]
    }
   ],
   "source": [
    "i=0\n",
    "a =[1,2]\n",
    "while i<=50:\n",
    "    b = (a[-1] + a[-2])\n",
    "    a.append(b)\n",
    "    i=i+1\n",
    "print(a[-1])  "
   ]
  },
  {
   "cell_type": "code",
   "execution_count": null,
   "metadata": {},
   "outputs": [],
   "source": []
  }
 ],
 "metadata": {
  "kernelspec": {
   "display_name": "Python 3",
   "language": "python",
   "name": "python3"
  },
  "language_info": {
   "codemirror_mode": {
    "name": "ipython",
    "version": 3
   },
   "file_extension": ".py",
   "mimetype": "text/x-python",
   "name": "python",
   "nbconvert_exporter": "python",
   "pygments_lexer": "ipython3",
   "version": "3.7.3"
  }
 },
 "nbformat": 4,
 "nbformat_minor": 2
}
